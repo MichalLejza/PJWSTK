{
 "cells": [
  {
   "cell_type": "markdown",
   "source": [
    "### List comprehentions"
   ],
   "metadata": {
    "collapsed": false
   }
  },
  {
   "cell_type": "code",
   "execution_count": 1,
   "outputs": [
    {
     "data": {
      "text/plain": "[0, 1, 2, 3, 4, 5, 6, 7, 8, 9]"
     },
     "execution_count": 1,
     "metadata": {},
     "output_type": "execute_result"
    }
   ],
   "source": [
    "[i for i in range(10)]"
   ],
   "metadata": {
    "collapsed": false,
    "ExecuteTime": {
     "end_time": "2024-04-01T09:45:50.994143Z",
     "start_time": "2024-04-01T09:45:50.982861Z"
    }
   }
  },
  {
   "cell_type": "code",
   "execution_count": 2,
   "outputs": [
    {
     "data": {
      "text/plain": "[[0, 1], [0, 1], [0, 1], [0, 1], [0, 1]]"
     },
     "execution_count": 2,
     "metadata": {},
     "output_type": "execute_result"
    }
   ],
   "source": [
    "# wersja zagnieżdżona\n",
    "[[i for i in range(2)] for j in range(5)]"
   ],
   "metadata": {
    "collapsed": false,
    "ExecuteTime": {
     "end_time": "2024-04-01T09:45:52.308631Z",
     "start_time": "2024-04-01T09:45:52.300861Z"
    }
   }
  },
  {
   "cell_type": "code",
   "execution_count": 3,
   "outputs": [
    {
     "data": {
      "text/plain": "[72, 27, 37, 10, 7, 91, 19, 41, 22, 95]"
     },
     "execution_count": 3,
     "metadata": {},
     "output_type": "execute_result"
    }
   ],
   "source": [
    "# wylosować listę list 10 x 10 liczb losowych\n",
    "import random\n",
    "[random.randint(0, 100) for _ in range(10)]"
   ],
   "metadata": {
    "collapsed": false,
    "ExecuteTime": {
     "end_time": "2024-04-01T09:46:01.421695Z",
     "start_time": "2024-04-01T09:46:01.413451Z"
    }
   }
  },
  {
   "cell_type": "code",
   "execution_count": 4,
   "outputs": [
    {
     "data": {
      "text/plain": "[[27, 70, 3, 37, 83, 11, 12, 4, 36, 3],\n [60, 99, 27, 75, 11, 43, 18, 81, 18, 80],\n [64, 34, 44, 72, 2, 37, 40, 59, 100, 8],\n [27, 15, 62, 21, 25, 88, 89, 100, 5, 47],\n [73, 61, 25, 96, 4, 98, 78, 57, 86, 48],\n [31, 22, 100, 73, 45, 7, 78, 56, 19, 87],\n [63, 92, 35, 50, 58, 42, 87, 49, 10, 46],\n [49, 33, 3, 11, 54, 42, 81, 63, 41, 92],\n [15, 7, 82, 95, 81, 54, 0, 1, 46, 79],\n [23, 21, 64, 85, 51, 95, 31, 69, 6, 15]]"
     },
     "execution_count": 4,
     "metadata": {},
     "output_type": "execute_result"
    }
   ],
   "source": [
    "dane = [[random.randint(0, 100) for _ in range(10)] for _ in range(10)]\n",
    "dane"
   ],
   "metadata": {
    "collapsed": false,
    "ExecuteTime": {
     "end_time": "2024-04-01T09:46:05.138185Z",
     "start_time": "2024-04-01T09:46:05.128647Z"
    }
   }
  },
  {
   "cell_type": "code",
   "execution_count": 1,
   "outputs": [
    {
     "ename": "NameError",
     "evalue": "name 'dane' is not defined",
     "output_type": "error",
     "traceback": [
      "\u001B[0;31m---------------------------------------------------------------------------\u001B[0m",
      "\u001B[0;31mNameError\u001B[0m                                 Traceback (most recent call last)",
      "Cell \u001B[0;32mIn[1], line 2\u001B[0m\n\u001B[1;32m      1\u001B[0m \u001B[38;5;66;03m# wypłaszczyć dane\u001B[39;00m\n\u001B[0;32m----> 2\u001B[0m [el \u001B[38;5;28;01mfor\u001B[39;00m lista \u001B[38;5;129;01min\u001B[39;00m \u001B[43mdane\u001B[49m \u001B[38;5;28;01mfor\u001B[39;00m el \u001B[38;5;129;01min\u001B[39;00m lista]\n",
      "\u001B[0;31mNameError\u001B[0m: name 'dane' is not defined"
     ]
    }
   ],
   "source": [
    "# wypłaszczyć dane\n",
    "[el for lista in dane for el in lista]"
   ],
   "metadata": {
    "collapsed": false,
    "ExecuteTime": {
     "end_time": "2024-04-01T09:46:16.023750Z",
     "start_time": "2024-04-01T09:46:16.015242Z"
    }
   }
  },
  {
   "cell_type": "code",
   "execution_count": 6,
   "outputs": [
    {
     "data": {
      "text/plain": "[0, 1, 4, 9, 16, 25, 36, 49, 64, 81]"
     },
     "execution_count": 6,
     "metadata": {},
     "output_type": "execute_result"
    }
   ],
   "source": [
    "# działania\n",
    "[x ** 2 for x in range(10)]"
   ],
   "metadata": {
    "collapsed": false,
    "ExecuteTime": {
     "end_time": "2024-04-01T09:46:27.818254Z",
     "start_time": "2024-04-01T09:46:27.811448Z"
    }
   }
  },
  {
   "cell_type": "code",
   "execution_count": 7,
   "outputs": [
    {
     "data": {
      "text/plain": "[0, 2, 4, 6, 8]"
     },
     "execution_count": 7,
     "metadata": {},
     "output_type": "execute_result"
    }
   ],
   "source": [
    "# filtrowanie\n",
    "[x for x in range(10) if x % 2 == 0]"
   ],
   "metadata": {
    "collapsed": false,
    "ExecuteTime": {
     "end_time": "2024-04-01T09:46:29.686683Z",
     "start_time": "2024-04-01T09:46:29.680114Z"
    }
   }
  },
  {
   "cell_type": "code",
   "execution_count": 8,
   "outputs": [
    {
     "data": {
      "text/plain": "<generator object <genexpr> at 0x0000021D4C971490>"
     },
     "execution_count": 8,
     "metadata": {},
     "output_type": "execute_result"
    }
   ],
   "source": [
    "# krotki\n",
    "(x for x in range(10)) # uwaga to jest generator"
   ],
   "metadata": {
    "collapsed": false,
    "ExecuteTime": {
     "end_time": "2024-04-01T09:46:40.781795Z",
     "start_time": "2024-04-01T09:46:40.774039Z"
    }
   }
  },
  {
   "cell_type": "code",
   "execution_count": 9,
   "outputs": [
    {
     "data": {
      "text/plain": "(0, 1, 2, 3, 4, 5, 6, 7, 8, 9)"
     },
     "execution_count": 9,
     "metadata": {},
     "output_type": "execute_result"
    }
   ],
   "source": [
    "tuple((x for x in range(10)))"
   ],
   "metadata": {
    "collapsed": false,
    "ExecuteTime": {
     "end_time": "2024-04-01T09:46:46.212644Z",
     "start_time": "2024-04-01T09:46:46.200949Z"
    }
   }
  },
  {
   "cell_type": "code",
   "execution_count": 10,
   "outputs": [
    {
     "data": {
      "text/plain": "{0: 0, 1: 1, 2: 4, 3: 9, 4: 16, 5: 25, 6: 36, 7: 49, 8: 64, 9: 81}"
     },
     "execution_count": 10,
     "metadata": {},
     "output_type": "execute_result"
    }
   ],
   "source": [
    "# słowniki\n",
    "{x: x ** 2 for x in range(10)}"
   ],
   "metadata": {
    "collapsed": false,
    "ExecuteTime": {
     "end_time": "2024-04-01T09:46:53.105999Z",
     "start_time": "2024-04-01T09:46:53.095938Z"
    }
   }
  },
  {
   "cell_type": "code",
   "execution_count": 11,
   "outputs": [
    {
     "data": {
      "text/plain": "[[' ', ' ', ' ', ' ', ' '],\n [' ', ' ', ' ', ' ', ' '],\n [' ', ' ', ' ', ' ', ' '],\n [' ', ' ', ' ', ' ', ' '],\n [' ', ' ', ' ', ' ', ' ']]"
     },
     "execution_count": 11,
     "metadata": {},
     "output_type": "execute_result"
    }
   ],
   "source": [
    "# pusta plansza kółko i krzyżyk\n",
    "n = 5\n",
    "plansza = [[' ' for _ in range(n)] for _ in range(n)]\n",
    "plansza"
   ],
   "metadata": {
    "collapsed": false,
    "ExecuteTime": {
     "end_time": "2024-04-01T09:46:57.237554Z",
     "start_time": "2024-04-01T09:46:57.227560Z"
    }
   }
  },
  {
   "cell_type": "markdown",
   "source": [
    "### Funkcje anonimowe lambda\n",
    "lambda argumenty : zwracane wartości"
   ],
   "metadata": {
    "collapsed": false
   }
  },
  {
   "cell_type": "code",
   "execution_count": 12,
   "outputs": [
    {
     "data": {
      "text/plain": "3"
     },
     "execution_count": 12,
     "metadata": {},
     "output_type": "execute_result"
    }
   ],
   "source": [
    "fun = lambda x, y: x + y\n",
    "fun(1, 2)"
   ],
   "metadata": {
    "collapsed": false,
    "ExecuteTime": {
     "end_time": "2024-04-01T09:47:04.153609Z",
     "start_time": "2024-04-01T09:47:04.146116Z"
    }
   }
  },
  {
   "cell_type": "code",
   "execution_count": 13,
   "outputs": [
    {
     "data": {
      "text/plain": "[1, 2, 3]"
     },
     "execution_count": 13,
     "metadata": {},
     "output_type": "execute_result"
    }
   ],
   "source": [
    "sorted([3, 2, 1])"
   ],
   "metadata": {
    "collapsed": false,
    "ExecuteTime": {
     "end_time": "2024-04-01T09:47:09.669428Z",
     "start_time": "2024-04-01T09:47:09.661964Z"
    }
   }
  },
  {
   "cell_type": "code",
   "execution_count": 14,
   "outputs": [
    {
     "data": {
      "text/plain": "[('a', 3), ('c', 1), ('d', 7)]"
     },
     "execution_count": 14,
     "metadata": {},
     "output_type": "execute_result"
    }
   ],
   "source": [
    "t = [('a', 3), ('d', 7), ('c', 1)]\n",
    "sorted(t)"
   ],
   "metadata": {
    "collapsed": false,
    "ExecuteTime": {
     "end_time": "2024-04-01T09:47:10.712613Z",
     "start_time": "2024-04-01T09:47:10.703292Z"
    }
   }
  },
  {
   "cell_type": "code",
   "execution_count": 15,
   "outputs": [
    {
     "data": {
      "text/plain": "[('c', 1), ('a', 3), ('d', 7)]"
     },
     "execution_count": 15,
     "metadata": {},
     "output_type": "execute_result"
    }
   ],
   "source": [
    "sorted(t, key=lambda x: x[1])"
   ],
   "metadata": {
    "collapsed": false,
    "ExecuteTime": {
     "end_time": "2024-04-01T09:47:17.599655Z",
     "start_time": "2024-04-01T09:47:17.591957Z"
    }
   }
  },
  {
   "cell_type": "markdown",
   "source": [
    "### Generatory\n",
    "* nie przechowują całej zawartości w pamięci\n",
    "* generują elementy w locie\n",
    "* następny element dostajemy poprzez next\n",
    "* funkcje generatorowe - yield zamiast return"
   ],
   "metadata": {
    "collapsed": false
   }
  },
  {
   "cell_type": "code",
   "execution_count": 16,
   "outputs": [],
   "source": [
    "r = range(3)"
   ],
   "metadata": {
    "collapsed": false,
    "ExecuteTime": {
     "end_time": "2024-04-01T09:47:31.800362Z",
     "start_time": "2024-04-01T09:47:31.795313Z"
    }
   }
  },
  {
   "cell_type": "code",
   "execution_count": 17,
   "outputs": [],
   "source": [
    "it = iter(r) # robimy iterator z range"
   ],
   "metadata": {
    "collapsed": false,
    "ExecuteTime": {
     "end_time": "2024-04-01T09:47:33.112459Z",
     "start_time": "2024-04-01T09:47:33.107793Z"
    }
   }
  },
  {
   "cell_type": "code",
   "execution_count": 21,
   "outputs": [
    {
     "ename": "StopIteration",
     "evalue": "",
     "output_type": "error",
     "traceback": [
      "\u001B[1;31m---------------------------------------------------------------------------\u001B[0m",
      "\u001B[1;31mStopIteration\u001B[0m                             Traceback (most recent call last)",
      "Cell \u001B[1;32mIn[21], line 1\u001B[0m\n\u001B[1;32m----> 1\u001B[0m \u001B[38;5;28;43mnext\u001B[39;49m\u001B[43m(\u001B[49m\u001B[43mit\u001B[49m\u001B[43m)\u001B[49m\n",
      "\u001B[1;31mStopIteration\u001B[0m: "
     ]
    }
   ],
   "source": [
    "next(it)"
   ],
   "metadata": {
    "collapsed": false,
    "ExecuteTime": {
     "end_time": "2024-04-01T09:47:39.634836Z",
     "start_time": "2024-04-01T09:47:39.162077Z"
    }
   }
  },
  {
   "cell_type": "code",
   "execution_count": 22,
   "outputs": [],
   "source": [
    "g = (x for x in range(10))"
   ],
   "metadata": {
    "collapsed": false,
    "ExecuteTime": {
     "end_time": "2024-04-01T09:47:45.309155Z",
     "start_time": "2024-04-01T09:47:45.304828Z"
    }
   }
  },
  {
   "cell_type": "code",
   "execution_count": 23,
   "outputs": [
    {
     "data": {
      "text/plain": "0"
     },
     "execution_count": 23,
     "metadata": {},
     "output_type": "execute_result"
    }
   ],
   "source": [
    "next(g)"
   ],
   "metadata": {
    "collapsed": false,
    "ExecuteTime": {
     "end_time": "2024-04-01T09:47:46.361150Z",
     "start_time": "2024-04-01T09:47:46.354286Z"
    }
   }
  },
  {
   "cell_type": "code",
   "execution_count": 24,
   "outputs": [],
   "source": [
    "# funkcja generatorowa\n",
    "def my_range(n):\n",
    "    i = 0\n",
    "    while i < n:\n",
    "        yield i\n",
    "        i += 1"
   ],
   "metadata": {
    "collapsed": false,
    "ExecuteTime": {
     "end_time": "2024-04-01T09:47:55.575840Z",
     "start_time": "2024-04-01T09:47:55.571568Z"
    }
   }
  },
  {
   "cell_type": "code",
   "execution_count": 25,
   "outputs": [],
   "source": [
    "r = my_range(3)"
   ],
   "metadata": {
    "collapsed": false,
    "ExecuteTime": {
     "end_time": "2024-04-01T09:47:58.531532Z",
     "start_time": "2024-04-01T09:47:58.526778Z"
    }
   }
  },
  {
   "cell_type": "code",
   "execution_count": 26,
   "outputs": [
    {
     "data": {
      "text/plain": "<generator object my_range at 0x0000021D4C8FFED0>"
     },
     "execution_count": 26,
     "metadata": {},
     "output_type": "execute_result"
    }
   ],
   "source": [
    "r"
   ],
   "metadata": {
    "collapsed": false,
    "ExecuteTime": {
     "end_time": "2024-04-01T09:47:59.858272Z",
     "start_time": "2024-04-01T09:47:59.851434Z"
    }
   }
  },
  {
   "cell_type": "code",
   "execution_count": 27,
   "outputs": [
    {
     "data": {
      "text/plain": "0"
     },
     "execution_count": 27,
     "metadata": {},
     "output_type": "execute_result"
    }
   ],
   "source": [
    "next(r)"
   ],
   "metadata": {
    "collapsed": false,
    "ExecuteTime": {
     "end_time": "2024-04-01T09:48:01.221492Z",
     "start_time": "2024-04-01T09:48:01.213685Z"
    }
   }
  },
  {
   "cell_type": "markdown",
   "source": [
    "### Rzeczy, które mogą się przydać na kolokwium, niezwiązane bezpośrednio z tematami zajęć"
   ],
   "metadata": {
    "collapsed": false
   }
  },
  {
   "cell_type": "code",
   "outputs": [
    {
     "data": {
      "text/plain": "4"
     },
     "execution_count": 1,
     "metadata": {},
     "output_type": "execute_result"
    }
   ],
   "source": [
    "# losowanie liczb całkowitych\n",
    "import random\n",
    "random.randint(3, 8)"
   ],
   "metadata": {
    "collapsed": false,
    "ExecuteTime": {
     "end_time": "2024-04-05T14:17:15.519009Z",
     "start_time": "2024-04-05T14:17:15.509045Z"
    }
   },
   "execution_count": 1
  },
  {
   "cell_type": "code",
   "outputs": [
    {
     "data": {
      "text/plain": "'c'"
     },
     "execution_count": 2,
     "metadata": {},
     "output_type": "execute_result"
    }
   ],
   "source": [
    "# losowanie elementu z listy\n",
    "l = ['a', 'b', 'c']\n",
    "random.choice(l)"
   ],
   "metadata": {
    "collapsed": false,
    "ExecuteTime": {
     "end_time": "2024-04-05T14:24:43.019243Z",
     "start_time": "2024-04-05T14:24:43.013214Z"
    }
   },
   "execution_count": 2
  },
  {
   "cell_type": "code",
   "outputs": [
    {
     "data": {
      "text/plain": "2.0280585274762224"
     },
     "execution_count": 4,
     "metadata": {},
     "output_type": "execute_result"
    }
   ],
   "source": [
    "# losowanie liczb rzeczywistych\n",
    "random.uniform(2, 4)"
   ],
   "metadata": {
    "collapsed": false,
    "ExecuteTime": {
     "end_time": "2024-04-05T14:42:33.095945Z",
     "start_time": "2024-04-05T14:42:33.089378Z"
    }
   },
   "execution_count": 4
  },
  {
   "cell_type": "code",
   "outputs": [
    {
     "name": "stdout",
     "output_type": "stream",
     "text": [
      "abcdefghijklmnopqrstuvwxyz\n",
      "ABCDEFGHIJKLMNOPQRSTUVWXYZ\n"
     ]
    }
   ],
   "source": [
    "import string\n",
    "# małe litery\n",
    "print(string.ascii_lowercase)\n",
    "# wielkie litery\n",
    "print(string.ascii_uppercase)"
   ],
   "metadata": {
    "collapsed": false,
    "ExecuteTime": {
     "end_time": "2024-04-05T14:36:30.984036Z",
     "start_time": "2024-04-05T14:36:30.978667Z"
    }
   },
   "execution_count": 3
  },
  {
   "cell_type": "markdown",
   "source": [
    "### Zadanie 1\n",
    "Zrobić 'piramidę' listę list. Pierwsza lista zawiera [1], druga [1, 2], ostatnia [1, 2, .., n]"
   ],
   "metadata": {
    "collapsed": false
   }
  },
  {
   "cell_type": "code",
   "execution_count": 17,
   "outputs": [],
   "source": [],
   "metadata": {
    "collapsed": false,
    "ExecuteTime": {
     "end_time": "2024-03-27T15:13:06.624766400Z",
     "start_time": "2024-03-27T15:13:06.624259100Z"
    }
   }
  },
  {
   "cell_type": "markdown",
   "source": [
    "### Zadanie 2\n",
    "Dla danego napisu utworzyć listę zawierającą samogłoski z tego napisu"
   ],
   "metadata": {
    "collapsed": false
   }
  },
  {
   "cell_type": "code",
   "execution_count": 28,
   "outputs": [],
   "source": [],
   "metadata": {
    "collapsed": false,
    "ExecuteTime": {
     "end_time": "2024-04-01T09:50:04.031075Z",
     "start_time": "2024-04-01T09:50:04.027839Z"
    }
   }
  },
  {
   "cell_type": "markdown",
   "source": [
    "### Zadanie 3\n",
    "* Wygenerować listę n list każda o rozmiarze n zawierających losowe liczby z zakresu (1, 10)\n",
    "* użyć list comprehentions do transpozycji macierzy\n",
    "* wybrać wszystkie elementy na głównej przekątnej"
   ],
   "metadata": {
    "collapsed": false
   }
  },
  {
   "cell_type": "code",
   "execution_count": 30,
   "outputs": [
    {
     "data": {
      "text/plain": "[[24, 5, 65, 68, 97, 15, 59, 56, 86, 60],\n [10, 44, 24, 17, 76, 32, 24, 96, 58, 65],\n [96, 7, 62, 73, 67, 87, 80, 76, 51, 81],\n [93, 61, 99, 22, 3, 7, 60, 28, 27, 29],\n [32, 59, 4, 79, 94, 98, 65, 76, 86, 89],\n [100, 60, 36, 74, 25, 30, 50, 9, 20, 50],\n [12, 40, 73, 39, 91, 35, 64, 59, 71, 62],\n [96, 42, 86, 8, 3, 77, 37, 74, 14, 23],\n [0, 71, 84, 63, 75, 62, 11, 75, 8, 9],\n [10, 90, 71, 14, 66, 92, 75, 96, 39, 71]]"
     },
     "execution_count": 30,
     "metadata": {},
     "output_type": "execute_result"
    }
   ],
   "source": [
    "dane = [[random.randint(0, 100) for _ in range(10)] for _ in range(10)]\n",
    "dane"
   ],
   "metadata": {
    "collapsed": false,
    "ExecuteTime": {
     "end_time": "2024-04-01T09:51:31.607544Z",
     "start_time": "2024-04-01T09:51:31.598772Z"
    }
   }
  },
  {
   "cell_type": "code",
   "outputs": [
    {
     "data": {
      "text/plain": "[[24, 10, 96, 93, 32, 100, 12, 96, 0, 10],\n [5, 44, 7, 61, 59, 60, 40, 42, 71, 90],\n [65, 24, 62, 99, 4, 36, 73, 86, 84, 71],\n [68, 17, 73, 22, 79, 74, 39, 8, 63, 14],\n [97, 76, 67, 3, 94, 25, 91, 3, 75, 66],\n [15, 32, 87, 7, 98, 30, 35, 77, 62, 92],\n [59, 24, 80, 60, 65, 50, 64, 37, 11, 75],\n [56, 96, 76, 28, 76, 9, 59, 74, 75, 96],\n [86, 58, 51, 27, 86, 20, 71, 14, 8, 39],\n [60, 65, 81, 29, 89, 50, 62, 23, 9, 71]]"
     },
     "execution_count": 33,
     "metadata": {},
     "output_type": "execute_result"
    }
   ],
   "source": [
    "[[dane[i][j] for i in range(10)] for j in range(10)]"
   ],
   "metadata": {
    "collapsed": false,
    "ExecuteTime": {
     "end_time": "2024-04-01T09:52:03.802796Z",
     "start_time": "2024-04-01T09:52:03.794081Z"
    }
   },
   "execution_count": 33
  },
  {
   "cell_type": "markdown",
   "source": [
    "### Zadanie 4\n",
    "* Napisać funkcję, która sprawdza, czy liczba jest pierwsza i zwraca wartość logiczną\n",
    "* Napisać generator, który zwróci n liczb pierwszych"
   ],
   "metadata": {
    "collapsed": false
   }
  },
  {
   "cell_type": "code",
   "execution_count": 58,
   "outputs": [],
   "source": [
    "\n",
    "    "
   ],
   "metadata": {
    "collapsed": false,
    "ExecuteTime": {
     "end_time": "2024-04-01T09:56:22.137675Z",
     "start_time": "2024-04-01T09:56:22.134121Z"
    }
   }
  },
  {
   "cell_type": "code",
   "execution_count": null,
   "outputs": [],
   "source": [],
   "metadata": {
    "collapsed": false
   }
  }
 ],
 "metadata": {
  "kernelspec": {
   "display_name": "Python 3",
   "language": "python",
   "name": "python3"
  },
  "language_info": {
   "codemirror_mode": {
    "name": "ipython",
    "version": 2
   },
   "file_extension": ".py",
   "mimetype": "text/x-python",
   "name": "python",
   "nbconvert_exporter": "python",
   "pygments_lexer": "ipython2",
   "version": "2.7.6"
  }
 },
 "nbformat": 4,
 "nbformat_minor": 0
}
