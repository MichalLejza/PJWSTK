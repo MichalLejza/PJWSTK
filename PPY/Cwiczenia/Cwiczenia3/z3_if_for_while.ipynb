{
 "cells": [
  {
   "cell_type": "markdown",
   "source": [
    "## If, for, while"
   ],
   "metadata": {
    "collapsed": false
   }
  },
  {
   "cell_type": "markdown",
   "source": [
    "### If instrukcja warunkowa\n",
    "Porównywanie:\n",
    "* \\> większy\n",
    "* < mniejszy\n",
    "* \\>= większy lub równy\n",
    "* <= mniejszy lub równy\n",
    "* == porównanie (= to przypisanie)\n",
    "* != nierówny"
   ],
   "metadata": {
    "collapsed": false
   }
  },
  {
   "cell_type": "code",
   "execution_count": 1,
   "outputs": [
    {
     "name": "stdout",
     "output_type": "stream",
     "text": [
      "x jest większe od 2\n"
     ]
    }
   ],
   "source": [
    "x = 3\n",
    "if x > 2:\n",
    "    print(\"x jest większe od 2\")\n",
    "else:\n",
    "    print(\"x nie jest większe od 2\")"
   ],
   "metadata": {
    "collapsed": false,
    "ExecuteTime": {
     "end_time": "2024-03-13T14:02:26.651167900Z",
     "start_time": "2024-03-13T14:02:26.637400600Z"
    }
   }
  },
  {
   "cell_type": "code",
   "execution_count": 2,
   "outputs": [
    {
     "name": "stdout",
     "output_type": "stream",
     "text": [
      "Większe jest y:  3\n"
     ]
    }
   ],
   "source": [
    "# elif\n",
    "x = 2\n",
    "y = 3\n",
    "\n",
    "if x > y:\n",
    "    print(\"Większe jest x: \", x)\n",
    "elif y > x:\n",
    "    print(\"Większe jest y: \", y)\n",
    "else:\n",
    "    print(\"Liczby są równe\")"
   ],
   "metadata": {
    "collapsed": false,
    "ExecuteTime": {
     "end_time": "2024-03-13T14:11:35.098961100Z",
     "start_time": "2024-03-13T14:11:35.098961100Z"
    }
   }
  },
  {
   "cell_type": "code",
   "execution_count": 3,
   "outputs": [
    {
     "name": "stdout",
     "output_type": "stream",
     "text": [
      "b\n"
     ]
    }
   ],
   "source": [
    "# ktory napis nigdy się nie wydrukuje?\n",
    "x = 4\n",
    "if x < 1:\n",
    "    print(\"a\")\n",
    "elif x < 10:\n",
    "    print(\"b\")\n",
    "elif x < 5:\n",
    "    print(\"c\")\n",
    "else:\n",
    "    print(\"d\")"
   ],
   "metadata": {
    "collapsed": false,
    "ExecuteTime": {
     "end_time": "2024-03-13T15:10:56.709460800Z",
     "start_time": "2024-03-13T15:10:56.709460800Z"
    }
   }
  },
  {
   "cell_type": "code",
   "execution_count": 6,
   "outputs": [
    {
     "data": {
      "text/plain": "'podzielna'"
     },
     "execution_count": 6,
     "metadata": {},
     "output_type": "execute_result"
    }
   ],
   "source": [
    "# wersja skrocona\n",
    "y = 4\n",
    "x = 'podzielna' if y % 2 == 0 else 'niepodzielna'\n",
    "x"
   ],
   "metadata": {
    "collapsed": false,
    "ExecuteTime": {
     "end_time": "2024-03-13T15:12:11.220234700Z",
     "start_time": "2024-03-13T15:12:11.199212100Z"
    }
   }
  },
  {
   "cell_type": "markdown",
   "source": [
    "#### warunki logiczne\n",
    "* and\n",
    "* or\n",
    "* not"
   ],
   "metadata": {
    "collapsed": false
   }
  },
  {
   "cell_type": "code",
   "execution_count": 9,
   "outputs": [
    {
     "data": {
      "text/plain": "False"
     },
     "execution_count": 9,
     "metadata": {},
     "output_type": "execute_result"
    }
   ],
   "source": [
    "x = 7\n",
    "x > 2 and x < 5"
   ],
   "metadata": {
    "collapsed": false,
    "ExecuteTime": {
     "end_time": "2024-03-13T15:13:35.106887600Z",
     "start_time": "2024-03-13T15:13:35.103070200Z"
    }
   }
  },
  {
   "cell_type": "code",
   "execution_count": 10,
   "outputs": [
    {
     "data": {
      "text/plain": "False"
     },
     "execution_count": 10,
     "metadata": {},
     "output_type": "execute_result"
    }
   ],
   "source": [
    "# wersja skrocona\n",
    "2 < x < 5"
   ],
   "metadata": {
    "collapsed": false,
    "ExecuteTime": {
     "end_time": "2024-03-13T15:13:35.764213600Z",
     "start_time": "2024-03-13T15:13:35.764213600Z"
    }
   }
  },
  {
   "cell_type": "code",
   "execution_count": 11,
   "outputs": [
    {
     "data": {
      "text/plain": "True"
     },
     "execution_count": 11,
     "metadata": {},
     "output_type": "execute_result"
    }
   ],
   "source": [
    "x = 3\n",
    "x < 4 or x > 10"
   ],
   "metadata": {
    "collapsed": false,
    "ExecuteTime": {
     "end_time": "2024-03-13T15:14:13.830424900Z",
     "start_time": "2024-03-13T15:14:13.830424900Z"
    }
   }
  },
  {
   "cell_type": "code",
   "execution_count": 13,
   "outputs": [
    {
     "data": {
      "text/plain": "False"
     },
     "execution_count": 13,
     "metadata": {},
     "output_type": "execute_result"
    }
   ],
   "source": [
    "'a' not in ['a', 'b']"
   ],
   "metadata": {
    "collapsed": false,
    "ExecuteTime": {
     "end_time": "2024-03-13T15:14:48.321376500Z",
     "start_time": "2024-03-13T15:14:48.306438800Z"
    }
   }
  },
  {
   "cell_type": "markdown",
   "source": [
    "### Pętla for"
   ],
   "metadata": {
    "collapsed": false
   }
  },
  {
   "cell_type": "code",
   "execution_count": 14,
   "outputs": [
    {
     "name": "stdout",
     "output_type": "stream",
     "text": [
      "a\n",
      "b\n",
      "c\n"
     ]
    }
   ],
   "source": [
    "# wersja podstawowa\n",
    "for i in ['a', 'b', 'c']:\n",
    "    print(i)"
   ],
   "metadata": {
    "collapsed": false,
    "ExecuteTime": {
     "end_time": "2024-03-13T15:20:39.831107400Z",
     "start_time": "2024-03-13T15:20:39.831107400Z"
    }
   }
  },
  {
   "cell_type": "code",
   "execution_count": 15,
   "outputs": [
    {
     "name": "stdout",
     "output_type": "stream",
     "text": [
      "Element o indeksie  0  to:  a\n",
      "Element o indeksie  1  to:  b\n",
      "Element o indeksie  2  to:  c\n"
     ]
    }
   ],
   "source": [
    "# enumerate\n",
    "for i, val in enumerate(['a', 'b', 'c']):\n",
    "    print('Element o indeksie ', i, ' to: ', val)"
   ],
   "metadata": {
    "collapsed": false,
    "ExecuteTime": {
     "end_time": "2024-03-13T15:21:54.010254900Z",
     "start_time": "2024-03-13T15:21:54.010254900Z"
    }
   }
  },
  {
   "cell_type": "code",
   "execution_count": 16,
   "outputs": [
    {
     "name": "stdout",
     "output_type": "stream",
     "text": [
      "Element o indeksie 0 to: a\n",
      "Element o indeksie 1 to: b\n",
      "Element o indeksie 2 to: c\n"
     ]
    }
   ],
   "source": [
    "# formatowanie napisow\n",
    "for i, val in enumerate(['a', 'b', 'c']):\n",
    "    print('Element o indeksie {} to: {}'.format(i, val))"
   ],
   "metadata": {
    "collapsed": false,
    "ExecuteTime": {
     "end_time": "2024-03-13T15:23:35.876535Z",
     "start_time": "2024-03-13T15:23:35.876535Z"
    }
   }
  },
  {
   "cell_type": "code",
   "execution_count": 17,
   "outputs": [
    {
     "name": "stdout",
     "output_type": "stream",
     "text": [
      "Element o indeksie 0 to: a\n",
      "Element o indeksie 1 to: b\n",
      "Element o indeksie 2 to: c\n"
     ]
    }
   ],
   "source": [
    "# formatowanie napisow\n",
    "for i, val in enumerate(['a', 'b', 'c']):\n",
    "    print('Element o indeksie {i} to: {val}'.format(i=i, val=val))"
   ],
   "metadata": {
    "collapsed": false,
    "ExecuteTime": {
     "end_time": "2024-03-13T15:24:15.099582Z",
     "start_time": "2024-03-13T15:24:15.099582Z"
    }
   }
  },
  {
   "cell_type": "code",
   "execution_count": 18,
   "outputs": [
    {
     "name": "stdout",
     "output_type": "stream",
     "text": [
      "aa\n",
      "bbb\n",
      "cccc\n"
     ]
    }
   ],
   "source": [
    "literki = [('a', 2), ('b', 3), ('c', 4)]\n",
    "for litera, ile in literki:\n",
    "    print(ile * litera)"
   ],
   "metadata": {
    "collapsed": false,
    "ExecuteTime": {
     "end_time": "2024-03-13T15:26:11.175095500Z",
     "start_time": "2024-03-13T15:26:11.175095500Z"
    }
   }
  },
  {
   "cell_type": "code",
   "execution_count": 22,
   "outputs": [
    {
     "name": "stdout",
     "output_type": "stream",
     "text": [
      "0 0\n",
      "0 1\n",
      "0 2\n",
      "0 3\n",
      "1 0\n",
      "1 1\n",
      "1 2\n",
      "1 3\n",
      "2 0\n",
      "2 1\n",
      "2 2\n",
      "2 3\n",
      "3 0\n",
      "3 1\n",
      "3 2\n",
      "3 3\n",
      "4 0\n",
      "4 1\n",
      "4 2\n",
      "4 3\n"
     ]
    }
   ],
   "source": [
    "# pętle zagnieżdżone\n",
    "for i in range(5):\n",
    "    for j in range(4):\n",
    "        print(i, j)"
   ],
   "metadata": {
    "collapsed": false,
    "ExecuteTime": {
     "end_time": "2024-03-13T15:34:38.279322400Z",
     "start_time": "2024-03-13T15:34:38.276084300Z"
    }
   }
  },
  {
   "cell_type": "code",
   "execution_count": 24,
   "outputs": [
    {
     "data": {
      "text/plain": "<zip at 0x1ffe2174200>"
     },
     "execution_count": 24,
     "metadata": {},
     "output_type": "execute_result"
    }
   ],
   "source": [
    "# zip\n",
    "x1 = range(10)\n",
    "x2 = range(100, 110)\n",
    "zip(x1, x2)"
   ],
   "metadata": {
    "collapsed": false,
    "ExecuteTime": {
     "end_time": "2024-03-13T15:41:14.686641500Z",
     "start_time": "2024-03-13T15:41:14.655056100Z"
    }
   }
  },
  {
   "cell_type": "code",
   "execution_count": 25,
   "outputs": [
    {
     "name": "stdout",
     "output_type": "stream",
     "text": [
      "[(0, 100), (1, 101), (2, 102), (3, 103), (4, 104), (5, 105), (6, 106), (7, 107), (8, 108), (9, 109)]\n"
     ]
    }
   ],
   "source": [
    "print(list(zip(x1, x2)))"
   ],
   "metadata": {
    "collapsed": false,
    "ExecuteTime": {
     "end_time": "2024-03-13T15:41:27.822701400Z",
     "start_time": "2024-03-13T15:41:27.822187200Z"
    }
   }
  },
  {
   "cell_type": "code",
   "execution_count": 26,
   "outputs": [
    {
     "name": "stdout",
     "output_type": "stream",
     "text": [
      "0   100\n",
      "1   101\n",
      "2   102\n",
      "3   103\n",
      "4   104\n",
      "5   105\n",
      "6   106\n",
      "7   107\n",
      "8   108\n",
      "9   109\n"
     ]
    }
   ],
   "source": [
    "for x1, x2 in zip(x1, x2):\n",
    "    print(x1, \" \", x2)"
   ],
   "metadata": {
    "collapsed": false,
    "ExecuteTime": {
     "end_time": "2024-03-13T15:41:57.493018900Z",
     "start_time": "2024-03-13T15:41:57.493018900Z"
    }
   }
  },
  {
   "cell_type": "markdown",
   "source": [
    "### Pętla while"
   ],
   "metadata": {
    "collapsed": false
   }
  },
  {
   "cell_type": "code",
   "execution_count": 19,
   "outputs": [],
   "source": [
    "x = int(input(\"podaj liczbe: \"))\n",
    "while x != 0:\n",
    "    x = int(input(\"podaj liczbe: \"))"
   ],
   "metadata": {
    "collapsed": false,
    "ExecuteTime": {
     "end_time": "2024-03-13T15:29:27.499718Z",
     "start_time": "2024-03-13T15:29:22.831980300Z"
    }
   }
  },
  {
   "cell_type": "code",
   "execution_count": 21,
   "outputs": [],
   "source": [
    "# while - else: rzadko uzywane\n",
    "x = int(input(\"podaj liczbe: \"))\n",
    "while x != 0:\n",
    "    x = int(input(\"podaj liczbe: \"))\n",
    "    if x < 0:\n",
    "        break\n",
    "else:\n",
    "    print(\"nie bylo liczb ujemnych\")"
   ],
   "metadata": {
    "collapsed": false,
    "ExecuteTime": {
     "end_time": "2024-03-13T15:30:47.720274600Z",
     "start_time": "2024-03-13T15:30:40.196770900Z"
    }
   }
  },
  {
   "cell_type": "markdown",
   "source": [
    "### Zadania"
   ],
   "metadata": {
    "collapsed": false
   }
  },
  {
   "cell_type": "markdown",
   "source": [
    "### Zadanie 1\n",
    "Wymusić na użytkowniku wpisanie liczby rzeczywistej z przedziału <0, 100>. (Pętla while prosząca o podanie liczby, póki nie będzie właściwa)"
   ],
   "metadata": {
    "collapsed": false
   }
  },
  {
   "cell_type": "code",
   "execution_count": 40,
   "outputs": [
    {
     "ename": "ValueError",
     "evalue": "invalid literal for int() with base 10: ''",
     "output_type": "error",
     "traceback": [
      "\u001B[0;31m---------------------------------------------------------------------------\u001B[0m",
      "\u001B[0;31mValueError\u001B[0m                                Traceback (most recent call last)",
      "Cell \u001B[0;32mIn[40], line 1\u001B[0m\n\u001B[0;32m----> 1\u001B[0m x \u001B[38;5;241m=\u001B[39m \u001B[38;5;28;43mint\u001B[39;49m\u001B[43m(\u001B[49m\u001B[38;5;28;43minput\u001B[39;49m\u001B[43m(\u001B[49m\u001B[38;5;124;43m\"\u001B[39;49m\u001B[38;5;124;43mPodaj liczbe: \u001B[39;49m\u001B[38;5;124;43m\"\u001B[39;49m\u001B[43m)\u001B[49m\u001B[43m)\u001B[49m\n\u001B[1;32m      2\u001B[0m \u001B[38;5;28;01mwhile\u001B[39;00m x \u001B[38;5;241m<\u001B[39m \u001B[38;5;241m0\u001B[39m \u001B[38;5;129;01mor\u001B[39;00m x \u001B[38;5;241m>\u001B[39m \u001B[38;5;241m100\u001B[39m:\n\u001B[1;32m      3\u001B[0m     x \u001B[38;5;241m=\u001B[39m \u001B[38;5;28mint\u001B[39m(\u001B[38;5;28minput\u001B[39m(\u001B[38;5;124m\"\u001B[39m\u001B[38;5;124mPodaj liczbe: \u001B[39m\u001B[38;5;124m\"\u001B[39m))\n",
      "\u001B[0;31mValueError\u001B[0m: invalid literal for int() with base 10: ''"
     ]
    }
   ],
   "source": [
    "x = float(input(\"Podaj liczbe: \"))\n",
    "while x < 0 or x > 100:\n",
    "    x = int(input(\"Podaj liczbe: \"))\n",
    "print(f\"Podano dobrze liczbe! : {x}\")\n"
   ],
   "metadata": {
    "collapsed": false,
    "ExecuteTime": {
     "start_time": "2024-03-20T15:49:48.128035Z",
     "end_time": "2024-03-20T15:49:53.035659Z"
    }
   }
  },
  {
   "cell_type": "markdown",
   "source": [
    "#### Zadanie 2\n",
    "Wczytywać liczby całkowite dopóki wystepują naprzemiennie parzyste i nieparzyste. Ciąg może się zaczynać od parzystej lub nieparzystej."
   ],
   "metadata": {
    "collapsed": false
   }
  },
  {
   "cell_type": "code",
   "execution_count": 5,
   "outputs": [],
   "source": [
    "x = int(input(\"Podaj liczbe\"))\n",
    "y = int(input(\"Podaj liczbe\"))\n",
    "while x%2 != y%2:\n",
    "    z = int(input(\"Podaj liczbe: \"))\n",
    "    x = y\n",
    "    y = z\n"
   ],
   "metadata": {
    "collapsed": false,
    "ExecuteTime": {
     "start_time": "2024-03-20T15:51:56.110685Z",
     "end_time": "2024-03-20T15:52:01.895802Z"
    }
   }
  },
  {
   "cell_type": "markdown",
   "source": [
    "### Zadanie 3\n",
    "Utworzyć listę 10 liczb losowych z zakresu <0, 100>. Wydrukować najmniejszą liczbę parzystą na liście. Uwzględnić przypadek braku parzystych."
   ],
   "metadata": {
    "collapsed": false
   }
  },
  {
   "cell_type": "code",
   "execution_count": 14,
   "outputs": [
    {
     "name": "stdout",
     "output_type": "stream",
     "text": [
      "[48, 78, 94, 10, 72]\n",
      "10\n"
     ]
    }
   ],
   "source": [
    "from random import randint\n",
    "\n",
    "numbers = []\n",
    "for i in range(10):\n",
    "    numbers.append(randint(0, 100))\n",
    "\n",
    "even = [i for i in numbers if i%2 == 0]\n",
    "\n",
    "if len(even) == 0:\n",
    "    print(\"nie ma parzystych elementow\")\n",
    "else:\n",
    "    print(min(even))\n",
    "\n"
   ],
   "metadata": {
    "collapsed": false,
    "ExecuteTime": {
     "start_time": "2024-03-20T15:55:39.519318Z",
     "end_time": "2024-03-20T15:55:39.531745Z"
    }
   }
  },
  {
   "cell_type": "markdown",
   "source": [
    "### Zadanie 4\n",
    "Utworzyć tablicę (jako listę list) losowych liczb całkowitych z zakresu <0, 100>. Wydrukować. Wyznaczyć i wydrukować największą liczbę w każdej kolumnie."
   ],
   "metadata": {
    "collapsed": false
   }
  },
  {
   "cell_type": "code",
   "execution_count": 20,
   "outputs": [
    {
     "name": "stdout",
     "output_type": "stream",
     "text": [
      "[22, 33, 72, 40, 3, 92, 17, 90, 58, 36]\n",
      "[41, 20, 75, 94, 29, 80, 5, 51, 66, 31]\n",
      "[1, 62, 60, 34, 43, 50, 59, 18, 14, 72]\n",
      "[18, 7, 17, 46, 61, 73, 34, 61, 56, 14]\n",
      "[95, 4, 38, 53, 86, 41, 22, 95, 8, 19]\n",
      "[78, 100, 56, 82, 10, 92, 44, 90, 59, 61]\n",
      "[47, 47, 54, 56, 4, 37, 57, 21, 94, 73]\n",
      "[42, 2, 86, 23, 46, 49, 68, 48, 48, 72]\n",
      "[42, 88, 44, 56, 52, 69, 87, 99, 99, 10]\n",
      "[52, 61, 6, 77, 59, 89, 27, 30, 0, 64]\n",
      "95\n",
      "100\n",
      "86\n",
      "94\n",
      "86\n",
      "92\n",
      "87\n",
      "99\n",
      "99\n",
      "73\n"
     ]
    }
   ],
   "source": [
    "table = []\n",
    "for i in range(10):\n",
    "    row = []\n",
    "    for j in range(10):\n",
    "        row.append(randint(0, 100))\n",
    "    table.append(row)\n",
    "\n",
    "for i in table:\n",
    "    print(i)\n",
    "\n",
    "for i in range(len(table[0])):\n",
    "    temp = []\n",
    "    for j in range(len(table)):\n",
    "        temp.append(table[j][i])\n",
    "    print(max(temp))\n",
    "\n"
   ],
   "metadata": {
    "collapsed": false,
    "ExecuteTime": {
     "start_time": "2024-03-20T16:00:31.775736Z",
     "end_time": "2024-03-20T16:00:31.789210Z"
    }
   }
  },
  {
   "cell_type": "markdown",
   "source": [
    "### Zadanie 5\n",
    "* Dana jest lista krawędzi grafu skierowanego jako lista krotek. Każda krotka zawiera (indeks pierwszego wierzchołka, indeks drugiego wierzchołka, waga krawędzi)\n",
    "* Utworzyć macierz sąsiedztwa grafu (jako listę list). Jeżeli nie ma krawędzi na liście powinno być 0."
   ],
   "metadata": {
    "collapsed": false
   }
  },
  {
   "cell_type": "code",
   "execution_count": 39,
   "outputs": [
    {
     "name": "stdout",
     "output_type": "stream",
     "text": [
      "{0: [[1, 2]], 1: [[2, 1]], 3: [[2, 4], [0, 5]]}\n",
      "[0, 2, 0, 5]\n",
      "[2, 0, 1, 0]\n",
      "[0, 1, 0, 4]\n",
      "[5, 0, 4, 0]\n"
     ]
    }
   ],
   "source": [
    "\n",
    "graf = [(0, 1, 2), (1, 2, 1), (3, 2, 4), (3, 0, 5)]\n",
    "grafNodes = {}\n",
    "for node in graf:\n",
    "    if node[0] in grafNodes:\n",
    "        grafNodes[node[0]].append([node[1], node[2]])\n",
    "    else:\n",
    "        grafNodes[node[0]] = []\n",
    "        grafNodes[node[0]].append([node[1], node[2]])\n",
    "print(grafNodes)\n",
    "\n",
    "matrix = []\n",
    "for i in range(max(grafNodes) + 1):\n",
    "    temp = []\n",
    "    for j in range(max(grafNodes) + 1):\n",
    "        temp.append(0)\n",
    "    matrix.append(temp)\n",
    "\n",
    "for i in grafNodes:\n",
    "    for j in grafNodes[i]:\n",
    "        matrix[i][j[0]] = j[1]\n",
    "        matrix[j[0]][i] = j[1]\n",
    "\n",
    "for i in matrix:\n",
    "    print(i)\n",
    "\n",
    "\n"
   ],
   "metadata": {
    "collapsed": false,
    "ExecuteTime": {
     "start_time": "2024-03-20T16:27:09.615869Z",
     "end_time": "2024-03-20T16:27:09.625524Z"
    }
   }
  },
  {
   "cell_type": "markdown",
   "source": [
    "### Zadanie 6\n",
    "* odwrotnie: dana jest macierz sąsiedztwa, utworzyć listę krawędzi"
   ],
   "metadata": {
    "collapsed": false
   }
  },
  {
   "cell_type": "code",
   "execution_count": 26,
   "outputs": [
    {
     "name": "stdout",
     "output_type": "stream",
     "text": [
      "[(0, 1, 2), (0, 3, 5), (1, 2, 1), (2, 3, 4)]\n"
     ]
    }
   ],
   "source": [
    "macierz = [[0, 2, 0, 5],\n",
    "           [2, 0, 1, 0],\n",
    "           [0, 1, 0, 4],\n",
    "           [5, 0, 4, 0],]\n",
    "graf = []\n",
    "for i in range(len(macierz)):\n",
    "    for j in range(i, len(macierz[i])):\n",
    "        if macierz[i][j] != 0:\n",
    "            graf.append((i, j, macierz[i][j]))\n",
    "\n",
    "print(graf)"
   ],
   "metadata": {
    "collapsed": false,
    "ExecuteTime": {
     "start_time": "2024-03-20T16:14:57.995246Z",
     "end_time": "2024-03-20T16:14:58.009739Z"
    }
   }
  },
  {
   "cell_type": "markdown",
   "source": [
    "### Zadanie 7\n",
    "Wydrukować trójkąt (symetryczny) o danej wysokości z danego znaku\n",
    "&nbsp;&nbsp;&nbsp;&nbsp;a\n",
    "&nbsp;&nbsp;&nbsp;aaa\n",
    "&nbsp;&nbsp;aaaaa\n",
    "&nbsp;aaaaaaa"
   ],
   "metadata": {
    "collapsed": false
   }
  },
  {
   "cell_type": "code",
   "execution_count": 24,
   "outputs": [
    {
     "name": "stdout",
     "output_type": "stream",
     "text": [
      "    a\n",
      "   aaa\n",
      "  aaaaa\n",
      " aaaaaaa\n",
      "aaaaaaaaa\n"
     ]
    }
   ],
   "source": [
    "x = int(input(\"Podaj wysokosc: \"))\n",
    "c = input(\"Podaj znak: \")\n",
    "\n",
    "for i in range(x):\n",
    "    for j in range(x - i - 1):\n",
    "        print(' ', end='')\n",
    "    for j in range(2 * i + 1):\n",
    "        print(c, end='')\n",
    "    print()\n",
    "\n"
   ],
   "metadata": {
    "collapsed": false,
    "ExecuteTime": {
     "start_time": "2024-03-20T16:09:24.112828Z",
     "end_time": "2024-03-20T16:09:26.662206Z"
    }
   }
  },
  {
   "cell_type": "code",
   "execution_count": null,
   "outputs": [],
   "source": [],
   "metadata": {
    "collapsed": false
   }
  }
 ],
 "metadata": {
  "kernelspec": {
   "display_name": "Python 3",
   "language": "python",
   "name": "python3"
  },
  "language_info": {
   "codemirror_mode": {
    "name": "ipython",
    "version": 2
   },
   "file_extension": ".py",
   "mimetype": "text/x-python",
   "name": "python",
   "nbconvert_exporter": "python",
   "pygments_lexer": "ipython2",
   "version": "2.7.6"
  }
 },
 "nbformat": 4,
 "nbformat_minor": 0
}
