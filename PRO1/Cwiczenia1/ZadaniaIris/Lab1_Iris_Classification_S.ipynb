{
 "cells": [
  {
   "cell_type": "code",
   "source": [],
   "metadata": {
    "id": "nynTLu3RT9y7"
   },
   "id": "nynTLu3RT9y7",
   "execution_count": null,
   "outputs": []
  },
  {
   "cell_type": "markdown",
   "id": "3b364bbb",
   "metadata": {
    "id": "3b364bbb"
   },
   "source": [
    "## Zadanie 1 (Ładowanie danych i wstępna analiza):\n",
    "Importować zbiór Iris z lokalnego dysku.\n",
    "\n",
    "## Zadanie 2:\n",
    "Wyświetlić informację o danych:\\\\\n",
    "    1. Liczba obiektów, liczba kolumn ( df.shape), rozkład decyzji \\\\\n",
    "    2. 10 pierwszych wierszy (df.head(10))\\\\\n",
    "    3. Typy atrybutów (df.info())\n",
    "Podać:\n",
    "\n",
    "# Zadanie 3:   \n",
    "1. Wyświetlić macierz korelacji i wyznaczyć dwie cechy (atrybuty) nabardziej skorelowane.\\\\\n",
    "2. Wyświetlić wykres punktowy dla atrybutów najbardziej skorelowanych (from matplotlib import pyplot).\n",
    "\n",
    "# Zadanie 4:\n",
    "1. Wyświetlić wykresy pudełkowe dla atrybutów.\\\\\n",
    "2. Porównywać zakresy wartości atrybutów.\n",
    "\n",
    "\n",
    "# Zadanie 5: Klasyfikator kNN\n",
    "1. Podzielić zbiór danych na dwa zbiory uczące i testowe\\\\\n",
    "2. Trenować model kNN dla  k = 3.\\\\\n",
    "3. Wyświetlić  Accuracy i F1-score.\n",
    "\n",
    "# Zadanie 6: Automatyczne dobranie parametru k\n",
    "1. Zmienić parametr k = {1,2,3...,10}. \\\\\n",
    "2. Wybrać najlepszą wartość k uwzględniejąc  Accuracy.\n",
    "\n",
    "# Zadanie 7: Klasyfikator Bayesowski\n",
    "Trenować model NB\n",
    "\n",
    "# Zadanie 8: Podsumowanie\n",
    "Porównywać dwa modele kNN i NB (pod względem Accuracy i CV)"
   ]
  },
  {
   "cell_type": "code",
   "execution_count": 12,
   "id": "fcaf3c30",
   "metadata": {
    "id": "fcaf3c30",
    "executionInfo": {
     "status": "ok",
     "timestamp": 1728293463727,
     "user_tz": -120,
     "elapsed": 2051,
     "user": {
      "displayName": "sinh hoa nguyen",
      "userId": "14869241253415677656"
     }
    },
    "outputId": "61e7a8a1-b8d5-4b18-bff5-958b16321b69",
    "colab": {
     "base_uri": "https://localhost:8080/"
    }
   },
   "source": [
    "#Importowanie danych z lokalnego dysku\n",
    "from google.colab import drive\n",
    "drive.mount('/content/drive')\n",
    "import pandas as pd\n",
    "path = '/content/drive/MyDrive/ADD_Datasets/Iris/'\n",
    "df = pd.read_csv(path + 'iris.csv', header = None)\n"
   ],
   "outputs": []
  },
  {
   "cell_type": "code",
   "execution_count": 13,
   "id": "a7930c3f",
   "metadata": {
    "id": "a7930c3f",
    "executionInfo": {
     "status": "ok",
     "timestamp": 1728293476434,
     "user_tz": -120,
     "elapsed": 268,
     "user": {
      "displayName": "sinh hoa nguyen",
      "userId": "14869241253415677656"
     }
    }
   },
   "source": [
    "# Dodawanie nazw kolumn\n",
    "path = '/content/drive/MyDrive/ADD_Datasets/Iris/'\n",
    "df = pd.read_csv(path + 'iris.csv', header = None, names=['sepal_len', 'sepal_with', 'petal_len', 'petal_width', 'class'])\n"
   ],
   "outputs": []
  },
  {
   "cell_type": "code",
   "execution_count": 5,
   "id": "27a3adaa",
   "metadata": {
    "id": "27a3adaa",
    "outputId": "3a96d9c2-59dc-4c82-fe32-79c3fa88aa48",
    "colab": {
     "base_uri": "https://localhost:8080/",
     "height": 462
    },
    "executionInfo": {
     "status": "ok",
     "timestamp": 1728292928958,
     "user_tz": -120,
     "elapsed": 618,
     "user": {
      "displayName": "sinh hoa nguyen",
      "userId": "14869241253415677656"
     }
    }
   },
   "source": [
    "# Wyświetlenie wykresu punktowego opisującego zależności między atrybutami.\n",
    "import matplotlib.pyplot as plt\n",
    "#plt.figure(figsize=(8, 5))\n",
    "petal_width_list = df['petal_width'].to_list()\n",
    "petal_len_list = df['petal_len'].to_list()\n",
    "plt.figure(figsize = (6,5))\n",
    "plt.scatter(petal_width_list, petal_len_list)\n"
   ],
   "outputs": []
  },
  {
   "cell_type": "code",
   "execution_count": 6,
   "id": "f0018019",
   "metadata": {
    "id": "f0018019",
    "outputId": "2793c61f-8552-414c-f9d2-8f63d0ea0550",
    "colab": {
     "base_uri": "https://localhost:8080/"
    },
    "executionInfo": {
     "status": "ok",
     "timestamp": 1728292933966,
     "user_tz": -120,
     "elapsed": 404,
     "user": {
      "displayName": "sinh hoa nguyen",
      "userId": "14869241253415677656"
     }
    }
   },
   "source": [
    "# Wyświetlenie rozkładu decyzji.\n",
    "print(df.groupby('class').size())"
   ],
   "outputs": []
  },
  {
   "cell_type": "code",
   "source": [
    "Iris_features = df.iloc[:,:4]\n",
    "Iris_class = df.iloc[:,4:]"
   ],
   "metadata": {
    "id": "kfSFT-1JQU7y",
    "executionInfo": {
     "status": "ok",
     "timestamp": 1728292963685,
     "user_tz": -120,
     "elapsed": 264,
     "user": {
      "displayName": "sinh hoa nguyen",
      "userId": "14869241253415677656"
     }
    }
   },
   "id": "kfSFT-1JQU7y",
   "execution_count": 8,
   "outputs": []
  },
  {
   "cell_type": "code",
   "execution_count": 9,
   "id": "1882ffec",
   "metadata": {
    "id": "1882ffec",
    "outputId": "68d67697-446e-4c37-81f6-a1ac98bcafdd",
    "colab": {
     "base_uri": "https://localhost:8080/",
     "height": 451
    },
    "executionInfo": {
     "status": "ok",
     "timestamp": 1728293002294,
     "user_tz": -120,
     "elapsed": 611,
     "user": {
      "displayName": "sinh hoa nguyen",
      "userId": "14869241253415677656"
     }
    }
   },
   "source": [
    "#Data Wizualization\n",
    "# Box and whisker plots. Univariate plots, one for each individual variable\n",
    "from matplotlib import pyplot as plt\n",
    "\n",
    "fig=plt.figure(figsize=(10,5), dpi=100, facecolor='w', edgecolor='k')\n",
    "Iris_features.plot(kind='box', subplots=True, layout=(2,2), sharex=False, sharey=False)\n",
    "plt.show()"
   ],
   "outputs": []
  },
  {
   "cell_type": "code",
   "execution_count": 10,
   "id": "e61f6d61",
   "metadata": {
    "id": "e61f6d61",
    "outputId": "74c4ee71-fe96-4719-f8d1-4286c9e940cf",
    "colab": {
     "base_uri": "https://localhost:8080/",
     "height": 464
    },
    "executionInfo": {
     "status": "ok",
     "timestamp": 1728293031051,
     "user_tz": -120,
     "elapsed": 577,
     "user": {
      "displayName": "sinh hoa nguyen",
      "userId": "14869241253415677656"
     }
    }
   },
   "source": [
    "# Wyświetlenie macierzy korelacji.\n",
    "correlation_matrix = Iris_features.corr()\n",
    "plt.figure(figsize=(9, 4))\n",
    "plt.matshow (correlation_matrix, cmap='BrBG')\n",
    "plt.colorbar()\n",
    "plt.title('Correlation Map Of Iris', fontdict={'fontsize':12}, pad=12)"
   ],
   "outputs": []
  },
  {
   "cell_type": "code",
   "execution_count": 11,
   "id": "5d3259d8",
   "metadata": {
    "id": "5d3259d8",
    "outputId": "b16e5e83-c82b-45a3-c0cb-b8f6c92b966d",
    "colab": {
     "base_uri": "https://localhost:8080/"
    },
    "executionInfo": {
     "status": "ok",
     "timestamp": 1728293049400,
     "user_tz": -120,
     "elapsed": 1188,
     "user": {
      "displayName": "sinh hoa nguyen",
      "userId": "14869241253415677656"
     }
    }
   },
   "source": [
    "# Uczenie modelu. Podzielić zbiór danych na zbiór uczący i testowy\n",
    "from sklearn.model_selection import train_test_split\n",
    "\n",
    "train,test = train_test_split (df, test_size=50, random_state=50, shuffle = True)\n",
    "\n",
    "# Tworzyć atrybut docelowy.\n",
    "\n",
    "X_train = train.iloc[:,:4]\n",
    "Y_train = train.iloc[:,4:]\n",
    "X_test = test.iloc[:,:4]\n",
    "Y_test = test.iloc[:,4:]\n",
    "\n",
    "print(X_train.shape)\n",
    "print(X_test.shape)"
   ],
   "outputs": []
  },
  {
   "cell_type": "code",
   "execution_count": 15,
   "id": "9cfd25b4",
   "metadata": {
    "id": "9cfd25b4",
    "colab": {
     "base_uri": "https://localhost:8080/"
    },
    "executionInfo": {
     "status": "ok",
     "timestamp": 1728293986394,
     "user_tz": -120,
     "elapsed": 254,
     "user": {
      "displayName": "sinh hoa nguyen",
      "userId": "14869241253415677656"
     }
    },
    "outputId": "a3c22df5-2c80-4c6e-9732-b11241186ad2"
   },
   "source": [
    "#Importować miary oceny jakości modelu\n",
    "from sklearn.model_selection import cross_val_score\n",
    "from sklearn.model_selection import StratifiedKFold\n",
    "from sklearn.metrics import classification_report\n",
    "from sklearn.metrics import confusion_matrix\n",
    "from sklearn.metrics import accuracy_score\n",
    "#from sklearn.linear_model import LogisticRegression\n",
    "#from sklearn.tree import DecisionTreeClassifier\n",
    "from sklearn.neighbors import KNeighborsClassifier\n",
    "#from sklearn.discriminant_analysis import LinearDiscriminantAnalysis\n",
    "from sklearn.naive_bayes import GaussianNB\n",
    "from sklearn.metrics import accuracy_score, classification_report, roc_auc_score,  RocCurveDisplay\n",
    "\n",
    "#from sklearn.svm import SVC\n",
    "\n",
    "#import warnings\n",
    "#warnings.filterwarnings(\"ignore\")\n",
    "\n",
    "#Klasyfikator kNN\n",
    "knn_clf = KNeighborsClassifier(n_neighbors=3)\n",
    "knn_clf.fit(X_train,Y_train)\n",
    "predictions = knn_clf.predict(X_test)"
   ],
   "outputs": []
  },
  {
   "metadata": {},
   "cell_type": "code",
   "execution_count": null,
   "source": "",
   "id": "83caf2d80850a3c7",
   "outputs": []
  },
  {
   "cell_type": "code",
   "execution_count": 16,
   "id": "aa1c9b3a",
   "metadata": {
    "id": "aa1c9b3a",
    "outputId": "29c0e149-8be6-4698-df38-10fc30ce0d37",
    "colab": {
     "base_uri": "https://localhost:8080/"
    },
    "executionInfo": {
     "status": "ok",
     "timestamp": 1728293989599,
     "user_tz": -120,
     "elapsed": 274,
     "user": {
      "displayName": "sinh hoa nguyen",
      "userId": "14869241253415677656"
     }
    }
   },
   "source": [
    "print(accuracy_score(Y_test, predictions))\n",
    "print(confusion_matrix(Y_test, predictions))\n",
    "print(classification_report(Y_test, predictions))"
   ],
   "outputs": []
  },
  {
   "cell_type": "code",
   "execution_count": 17,
   "id": "b0cdb569",
   "metadata": {
    "id": "b0cdb569",
    "colab": {
     "base_uri": "https://localhost:8080/"
    },
    "executionInfo": {
     "status": "ok",
     "timestamp": 1728293992844,
     "user_tz": -120,
     "elapsed": 303,
     "user": {
      "displayName": "sinh hoa nguyen",
      "userId": "14869241253415677656"
     }
    },
    "outputId": "c930d057-140e-4f1f-8af8-c844a38ca4b1"
   },
   "source": [
    "#Klasyfikator Bayesowski\n",
    "NB_clf = GaussianNB()\n",
    "NB_clf.fit(X_train,Y_train)\n",
    "predictions = NB_clf.predict(X_test)"
   ],
   "outputs": []
  },
  {
   "cell_type": "code",
   "execution_count": null,
   "id": "7d8fcbf8",
   "metadata": {
    "id": "7d8fcbf8",
    "outputId": "89aeb4c3-818d-4852-bf2f-5f91a0b7262e"
   },
   "source": [
    "#Macierz pomyłek klasyfikatora NB\n",
    "print(accuracy_score(Y_test, predictions))\n",
    "print(confusion_matrix(Y_test, predictions))\n",
    "print(classification_report(Y_test, predictions))"
   ],
   "outputs": []
  },
  {
   "cell_type": "code",
   "execution_count": 18,
   "id": "c2efdd8e",
   "metadata": {
    "id": "c2efdd8e",
    "outputId": "fb1f7c73-d479-4da8-b03f-463db83d3c29",
    "colab": {
     "base_uri": "https://localhost:8080/"
    },
    "executionInfo": {
     "status": "ok",
     "timestamp": 1728293998447,
     "user_tz": -120,
     "elapsed": 287,
     "user": {
      "displayName": "sinh hoa nguyen",
      "userId": "14869241253415677656"
     }
    }
   },
   "source": [
    "#NB 10fold cross validation\n",
    "kfold = StratifiedKFold(n_splits=10, random_state=1, shuffle=True)\n",
    "cv_results = cross_val_score(GaussianNB(), X_train, Y_train, cv=kfold, scoring='accuracy')\n",
    "print(cv_results.mean(), cv_results.std())"
   ],
   "outputs": []
  },
  {
   "cell_type": "code",
   "source": [],
   "metadata": {
    "id": "YEbMcb0JWjqS"
   },
   "id": "YEbMcb0JWjqS",
   "execution_count": null,
   "outputs": []
  }
 ],
 "metadata": {
  "kernelspec": {
   "display_name": "Python 3 (ipykernel)",
   "language": "python",
   "name": "python3"
  },
  "language_info": {
   "codemirror_mode": {
    "name": "ipython",
    "version": 3
   },
   "file_extension": ".py",
   "mimetype": "text/x-python",
   "name": "python",
   "nbconvert_exporter": "python",
   "pygments_lexer": "ipython3",
   "version": "3.11.4"
  },
  "colab": {
   "provenance": []
  }
 },
 "nbformat": 4,
 "nbformat_minor": 5
}
