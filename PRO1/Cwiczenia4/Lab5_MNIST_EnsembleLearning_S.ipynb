{
 "cells": [
  {
   "cell_type": "markdown",
   "id": "e773e157",
   "metadata": {},
   "source": [
    "####  <span style='color:Blue'> Dane do analizy </span>:  MNIST.csv (Modified National Institute of Standards and Technology database)\n",
    "####  <span style='color:Blue'> Cel badania </span>:  Rozpoznanie i klasyfikacji znaków ręcznie napisanych . \n",
    "\n",
    "####   <span style='color:Blue'> Klasyfikator </span>:  Decision tree, RF, ExtraTree, XGBoost (Improved GradientBoosting) +PCA\n",
    "\n",
    "##### <span style='color:Blue'>  Zadanie 1 </span>: Ładowanie zbioru treningowego, testowego, wstępna analiza  i dodawanie nazw dla kolumn\n",
    "* Dodać nazwy kolumn: <span style='color:red'>  class, pixel1, pixel2,...pixel 784 </span>\n",
    "* Wyznaczyć liczbę rekordów, liczbę cech w zbiorze treningowym i testowym.\n",
    "* Wyznaczyć rozkład kategorii (w procentach).\n",
    "* Narysować wykres słupkowy rozkładu kategorii. \n",
    "##### <span style='color:Blue'>  Zadanie 2 </span>:   Wizualizacja 8 pierwszych liter w zbiorze uczącym i 8 pierwszych w zbiorze testowym.\n",
    "__Wskazówka__: Przekształcić wektor 784-bitowy (wiersz) na macierz o wymiarach <span style='color:red'> $ 28 \\times 28$ (reshape()) </span>. \n",
    "##### <span style='color:Blue'>  Zadanie 3.1 </span>:  Tworzenie klasyfikatora <i>Decision tree</i> \n",
    "__Wskazówka__: <span style='color:red'>  from sklearn.tree import DecisionTreeClassifier </span>\n",
    "\n",
    "##### <span style='color:Blue'>  Zadanie 3.2 </span>:  Optymalizacja hyperparametrów DT,  ręczne ustawienie parametrów.\n",
    "__Wskazówka: Zmienić parametry__\n",
    "* Głębokość drzewa (max_depth)\n",
    "* Kryterium podziału (criterion = 'gini', 'entropy')\n",
    "* Miara oceny: accuracy\n",
    "<b>Wniosek</b>: Które parametry są optymalne?\n",
    "##### <span style='color:Blue'>  Zadanie 3.3 </span> : Wizualizacja drzewa. Analizując drzewo podać 5 najważniejszych  atrybutów.\n",
    "\n",
    "* Głębokość drzewa (max_depth = 10, 20, 30)\n",
    "* Kryterium podziału (criterion = 'gini', 'entropy', 'log_loss')\n",
    "* Miara oceny: accuracy.\n",
    "<b>Wniosek</b>: Które parametry są optymane?\n",
    "\n",
    "##### <span style='color:Blue'>  Zadanie 4 </span> : Trenować zespół klasyfikatorów <i> RandomForest </i>  z optymalizacją parametrów.\n",
    "__Wskazówka__: <span style='color:red'>  from sklearn.ensemble import RandomForestClassifier </span>\n",
    "\n",
    "##### <span style='color:Blue'>  Zadanie 5 </span> : Trenować zespół klasyfikatorów <i> ExtraTree </i>  z optymalizacją parametrów.\n",
    "__Wskazówka__: <span style='color:red'>  from sklearn.ensemble import ExtraTreeClassifier </span>\n",
    "\n",
    "##### <span style='color:Blue'>  Zadanie 6 </span>:  Trenować zespół klasyfikatorów <i> XGBoost </i>  z optymalizacją parametrów.\n",
    "__Wskazówka__: \n",
    "<span style='color:red'>  !pip install  xgboost </span>\n",
    "<span style='color:red'>  import xgboost as xgb  </span>\n",
    " \n",
    "#####  <span style='color:Blue'>  Zadanie 7 </span>: Wykonać aumentację obrazów. Przesuwać każde zdjęcie (shift) do góry, w dół, w lewo i w prawo. Dla każdego zdjęcia tworzyć dodatkowe cztery obrazy i dodać je do zbioru treningowego.  \n",
    "\n",
    "#####  <span style='color:Blue'>  Zadanie 8 </span>: Budować DT, RF, ExtraTree, XGBoost na transformowanych danych (aumentacją). \n",
    "\n",
    "#####  <span style='color:Blue'>  Zadanie 9 </span>: Wyświetlić czas tworzenia modelu w zadaniu 8.\n",
    "__Wskazówka__: \n",
    "\n",
    "<span style='color:red'>   </span> \n",
    "from scipy.ndimage.interpolation import shift\n",
    "\n",
    "def shift_image(image, dx, dy):\n",
    "    \n",
    "    image = image.reshape((28, 28))\n",
    "    \n",
    "    shifted_image = shift(image, [dy, dx], cval=0, mode=\"constant\")\n",
    "    \n",
    "    return shifted_image.reshape([-1])\n",
    "\n",
    "</span>\n",
    "\n",
    "#####  <span style='color:Blue'>  Zadanie 10 </span>: Napisać podsumowanie:\n",
    "1. Dla danych oryginalnych: Który  \n",
    "klasyfikator jest najlepszy i z jakimi parametrami?\n",
    "2. Dla danych z augmentacją: Który klasyfikator jest najlepszy?\n",
    "3. Czy warto zrobić aumentację obrazów? "
   ]
  },
  {
   "cell_type": "markdown",
   "id": "c581790e",
   "metadata": {},
   "source": [
    "## Zadanie 1: Ładowanie i wstępna analiza"
   ]
  },
  {
   "cell_type": "code",
   "execution_count": 53,
   "id": "57c25dd2",
   "metadata": {},
   "source": [
    "#Importowanie danych z lokalnego dysku  \n",
    "\n"
   ],
   "outputs": []
  },
  {
   "cell_type": "code",
   "execution_count": 54,
   "id": "d433bb15",
   "metadata": {},
   "source": [
    "#data_frame.info()"
   ],
   "outputs": []
  },
  {
   "cell_type": "code",
   "execution_count": null,
   "id": "6cc683f3",
   "metadata": {},
   "source": [
    "# Rozkład kategorii.\n"
   ],
   "outputs": []
  },
  {
   "cell_type": "code",
   "execution_count": 9,
   "id": "87b6232d",
   "metadata": {},
   "source": [
    "# Rozkładu kategorii, wykres słupkowy  \n"
   ],
   "outputs": []
  },
  {
   "cell_type": "code",
   "execution_count": 55,
   "id": "cb6d3474",
   "metadata": {},
   "source": [
    "# Podział danych:  zbiór treningowy i testowy\n",
    "#from sklearn.model_selection import train_test_split\n",
    "\n",
    "#train,test = train_test_split (df, test_size=0.3, random_state=50, shuffle = True)\n",
    "\n",
    "# Tworzyć atrybut docelowy.\n",
    "\n",
    "X_train = df_train.iloc[:,1:785]\n",
    "y_train = df_train.iloc[:,0] \n",
    "X_test = df_test.iloc[:,1:785]\n",
    "y_test = df_test.iloc[:,0] \n",
    "\n",
    "print(X_train.shape)\n",
    "print(X_test.shape)"
   ],
   "outputs": []
  },
  {
   "cell_type": "markdown",
   "id": "231a981e",
   "metadata": {},
   "source": [
    "##  Zadanie 2: Wyświetlenie 8 pierwszych obrazów"
   ]
  },
  {
   "cell_type": "code",
   "execution_count": 56,
   "id": "d3cfe63d",
   "metadata": {},
   "source": [
    "import matplotlib.pyplot as plt\n",
    "import numpy as np\n",
    "for i in range(8):\n",
    "     # define subplot\n",
    "    plt.subplot(240+1+i)\n",
    "    # plot raw pixel data\n",
    "    ith_image = X_train.iloc[i,:]\n",
    "    ith_image_arr = ith_image.to_numpy() \n",
    "    ith_image= ith_image_arr.reshape(28,28)\n",
    "    plt.imshow(ith_image, cmap=plt.get_cmap('gray'))\n",
    "# show the figure\n",
    "plt.show()"
   ],
   "outputs": []
  },
  {
   "cell_type": "markdown",
   "id": "48c4e76d",
   "metadata": {},
   "source": [
    "## Zadanie 3: Budowanie klasyfikatora DT"
   ]
  },
  {
   "cell_type": "code",
   "execution_count": 12,
   "id": "85cf8549",
   "metadata": {},
   "source": [
    "# Klasyfikator DT\n",
    "# Ewaluacja modelu: accuracy-score, \n",
    "\n",
    "from sklearn.tree import DecisionTreeClassifier\n",
    "from sklearn.model_selection import cross_val_score\n",
    "from sklearn.model_selection import StratifiedKFold\n",
    "from sklearn.metrics import classification_report\n",
    "from sklearn.metrics import confusion_matrix\n",
    "from sklearn.metrics import accuracy_score\n",
    "#from sklearn.metrics import f1_score\n"
   ],
   "outputs": []
  },
  {
   "cell_type": "code",
   "execution_count": 13,
   "id": "e21b92fb",
   "metadata": {},
   "source": [
    "from sklearn import tree \n",
    "import matplotlib.pyplot as plt\n",
    "fig = plt.figure(figsize=(15,5))\n",
    "f_names = list(df_train.columns.values.tolist())\n",
    "f_names = f_names[1:]\n",
    "t_names = [\"0\", \"1\", \"2\", \"3\", \"4\", \"5\", \"6\", \"7\", \"8\", \"9\"]\n",
    "tree.plot_tree(tree_clf, max_depth =1, feature_names = f_names, \n",
    "                   class_names=t_names, filled = True)\n",
    "plt.show()"
   ],
   "outputs": []
  },
  {
   "cell_type": "code",
   "execution_count": 14,
   "id": "e193863d",
   "metadata": {},
   "source": [
    "# DT - Text form\n",
    "from sklearn.tree import export_text\n",
    "f_names = list(df_train.columns.values.tolist())\n",
    "f_names = f_names[1:]\n",
    "r = export_text(tree_clf, feature_names = f_names, max_depth = 3)\n",
    "print(r)"
   ],
   "outputs": []
  },
  {
   "cell_type": "code",
   "execution_count": 15,
   "id": "b51535ff",
   "metadata": {},
   "source": [
    "# RF classifier\n"
   ],
   "outputs": []
  },
  {
   "cell_type": "code",
   "execution_count": 17,
   "id": "141327ef",
   "metadata": {},
   "source": [
    "# ExtraTree\n",
    "from sklearn.ensemble import ExtraTreesClassifier\n",
    "import warnings\n",
    "warnings.filterwarnings('ignore')\n",
    "\n"
   ],
   "outputs": []
  },
  {
   "cell_type": "code",
   "execution_count": 18,
   "id": "55f94689",
   "metadata": {},
   "source": [
    "# Accuracy ExtraTree"
   ],
   "outputs": []
  },
  {
   "cell_type": "code",
   "execution_count": 20,
   "id": "8082904d",
   "metadata": {},
   "source": [
    "import xgboost as xgb\n",
    "xgb_clf = xgb.XGBClassifier(n_estimators = 20, criterion ='gini')\n",
    "xgb_clf.fit(X_train, y_train)\n",
    "xgb_clf.fit(X_train, y_train)\n",
    "predictions = xgb_clf.predict(X_test)\n",
    "print('Accuracy:', accuracy_score(y_test, predictions))\n",
    "#print(confusion_matrix(y_test, predictions))\n",
    "#print('F1 measure:', f1_score (y_test, predictions))\n",
    "print(classification_report(y_test, predictions))"
   ],
   "outputs": []
  },
  {
   "cell_type": "code",
   "execution_count": 57,
   "id": "cacb4bad",
   "metadata": {},
   "source": [
    "from scipy.ndimage.interpolation import shift\n",
    "def shift_image(image, dx, dy):\n",
    "    image = image.reshape((28, 28))\n",
    "    shifted_image = shift(image, [dy, dx], cval=0, mode=\"constant\")\n",
    "    return shifted_image.reshape([-1])"
   ],
   "outputs": []
  },
  {
   "cell_type": "code",
   "execution_count": 58,
   "id": "eda50a40",
   "metadata": {},
   "source": [
    "image = X_train.iloc[1000,:]\n",
    "image_arr = image.to_numpy() \n",
    "image = image_arr.reshape((28,28))\n",
    "shifted_image_down = shift_image(image, 0, 5)\n",
    "shifted_image_left = shift_image(image, -5, 0)\n",
    "\n",
    "plt.figure(figsize=(12,3))\n",
    "plt.subplot(131)\n",
    "plt.title(\"Original\", fontsize=14)\n",
    "plt.imshow(image.reshape(28, 28), interpolation=\"nearest\", cmap=\"Greys\")\n",
    "plt.subplot(132)\n",
    "plt.title(\"Shifted down\", fontsize=14)\n",
    "plt.imshow(shifted_image_down.reshape(28, 28), interpolation=\"nearest\", cmap=\"Greys\")\n",
    "plt.subplot(133)\n",
    "plt.title(\"Shifted left\", fontsize=14)\n",
    "plt.imshow(shifted_image_left.reshape(28, 28), interpolation=\"nearest\", cmap=\"Greys\")\n",
    "plt.show()"
   ],
   "outputs": []
  },
  {
   "cell_type": "code",
   "execution_count": null,
   "id": "6e93f46c",
   "metadata": {},
   "source": [
    "X_train_augmented = [image for image in X_train]\n",
    "y_train_augmented = [label for label in y_train]\n",
    "\n"
   ],
   "outputs": []
  }
 ],
 "metadata": {
  "kernelspec": {
   "display_name": "Python 3 (ipykernel)",
   "language": "python",
   "name": "python3"
  },
  "language_info": {
   "codemirror_mode": {
    "name": "ipython",
    "version": 3
   },
   "file_extension": ".py",
   "mimetype": "text/x-python",
   "name": "python",
   "nbconvert_exporter": "python",
   "pygments_lexer": "ipython3",
   "version": "3.11.4"
  }
 },
 "nbformat": 4,
 "nbformat_minor": 5
}
